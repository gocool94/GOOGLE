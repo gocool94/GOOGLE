{
 "cells": [
  {
   "cell_type": "code",
   "execution_count": 1,
   "id": "9501a0d4",
   "metadata": {},
   "outputs": [
    {
     "name": "stdout",
     "output_type": "stream",
     "text": [
      "Hello world..!\n"
     ]
    }
   ],
   "source": [
    "#python basics\n",
    "print(\"Hello world..!\")"
   ]
  },
  {
   "cell_type": "code",
   "execution_count": 2,
   "id": "be4b2633",
   "metadata": {},
   "outputs": [],
   "source": [
    "#Basic data types\n",
    "\n",
    "number1 = 1\n",
    "number2 = 3\n",
    "\n",
    "\n",
    "number1 , number2 = 10 , 20"
   ]
  },
  {
   "cell_type": "code",
   "execution_count": 3,
   "id": "319dd2da",
   "metadata": {},
   "outputs": [
    {
     "data": {
      "text/plain": [
       "10"
      ]
     },
     "execution_count": 3,
     "metadata": {},
     "output_type": "execute_result"
    }
   ],
   "source": [
    "number1"
   ]
  },
  {
   "cell_type": "code",
   "execution_count": 6,
   "id": "041b268b",
   "metadata": {},
   "outputs": [
    {
     "data": {
      "text/plain": [
       "bool"
      ]
     },
     "execution_count": 6,
     "metadata": {},
     "output_type": "execute_result"
    }
   ],
   "source": [
    "#booleans\n",
    "\n",
    "3 < 1\n",
    "type(1<3)"
   ]
  },
  {
   "cell_type": "code",
   "execution_count": 8,
   "id": "ccda7052",
   "metadata": {},
   "outputs": [],
   "source": [
    "n = \"There are no character is python\""
   ]
  },
  {
   "cell_type": "code",
   "execution_count": 13,
   "id": "35758775",
   "metadata": {},
   "outputs": [
    {
     "data": {
      "text/plain": [
       "'nohtypsiretcarahconeraereht'"
      ]
     },
     "execution_count": 13,
     "metadata": {},
     "output_type": "execute_result"
    }
   ],
   "source": [
    "n[::-1].replace(\" \",\"\").lower()"
   ]
  },
  {
   "cell_type": "code",
   "execution_count": 14,
   "id": "7bbf260b",
   "metadata": {},
   "outputs": [
    {
     "data": {
      "text/plain": [
       "'25'"
      ]
     },
     "execution_count": 14,
     "metadata": {},
     "output_type": "execute_result"
    }
   ],
   "source": [
    "str(25)"
   ]
  },
  {
   "cell_type": "code",
   "execution_count": 15,
   "id": "60379685",
   "metadata": {},
   "outputs": [
    {
     "data": {
      "text/plain": [
       "'What is your 26'"
      ]
     },
     "execution_count": 15,
     "metadata": {},
     "output_type": "execute_result"
    }
   ],
   "source": [
    "name = \"What is your {}\"\n",
    "\n",
    "name.format(26)"
   ]
  },
  {
   "cell_type": "code",
   "execution_count": 17,
   "id": "05fa4bce",
   "metadata": {},
   "outputs": [
    {
     "data": {
      "text/plain": [
       "'What is your {}'"
      ]
     },
     "execution_count": 17,
     "metadata": {},
     "output_type": "execute_result"
    }
   ],
   "source": [
    "name[:]"
   ]
  },
  {
   "cell_type": "code",
   "execution_count": 19,
   "id": "498b7240",
   "metadata": {},
   "outputs": [],
   "source": [
    "#variablename[start_value:end_value:step_size_value]"
   ]
  },
  {
   "cell_type": "code",
   "execution_count": 20,
   "id": "bed2378e",
   "metadata": {},
   "outputs": [
    {
     "data": {
      "text/plain": [
       "'26'"
      ]
     },
     "execution_count": 20,
     "metadata": {},
     "output_type": "execute_result"
    }
   ],
   "source": [
    "#Type casting\n",
    "\n",
    "str(26)"
   ]
  },
  {
   "cell_type": "code",
   "execution_count": 24,
   "id": "a5bf59ff",
   "metadata": {},
   "outputs": [
    {
     "data": {
      "text/plain": [
       "3"
      ]
     },
     "execution_count": 24,
     "metadata": {},
     "output_type": "execute_result"
    }
   ],
   "source": [
    "6//2"
   ]
  },
  {
   "cell_type": "code",
   "execution_count": 25,
   "id": "e85ce881",
   "metadata": {},
   "outputs": [
    {
     "data": {
      "text/plain": [
       "8"
      ]
     },
     "execution_count": 25,
     "metadata": {},
     "output_type": "execute_result"
    }
   ],
   "source": [
    "2**3"
   ]
  },
  {
   "cell_type": "code",
   "execution_count": null,
   "id": "2bd7c1a9",
   "metadata": {},
   "outputs": [],
   "source": [
    "==\n",
    "<\n",
    ">\n"
   ]
  },
  {
   "cell_type": "code",
   "execution_count": 28,
   "id": "4e42166e",
   "metadata": {},
   "outputs": [
    {
     "name": "stdout",
     "output_type": "stream",
     "text": [
      "Else block\n"
     ]
    }
   ],
   "source": [
    "#conditional statements\n",
    "num = 2\n",
    "if num <1:\n",
    "    print(num)\n",
    "else:\n",
    "    print(\"Else block\")"
   ]
  },
  {
   "cell_type": "code",
   "execution_count": 1,
   "id": "ab5d6f42",
   "metadata": {},
   "outputs": [
    {
     "name": "stdout",
     "output_type": "stream",
     "text": [
      "0\n",
      "1\n",
      "2\n",
      "3\n",
      "4\n"
     ]
    }
   ],
   "source": [
    "# for loops\n",
    "\n",
    "for i in range(0,5):\n",
    "    print(i)"
   ]
  },
  {
   "cell_type": "code",
   "execution_count": 3,
   "id": "76c7221f",
   "metadata": {},
   "outputs": [
    {
     "name": "stdout",
     "output_type": "stream",
     "text": [
      "0\n",
      "1\n",
      "2\n",
      "3\n",
      "4\n"
     ]
    }
   ],
   "source": [
    "for number in range(5):\n",
    "    print(number)"
   ]
  },
  {
   "cell_type": "code",
   "execution_count": 4,
   "id": "5b109450",
   "metadata": {},
   "outputs": [
    {
     "name": "stdout",
     "output_type": "stream",
     "text": [
      "1\n",
      "2\n",
      "3\n",
      "4\n"
     ]
    }
   ],
   "source": [
    "#while loops\n",
    "num = 1\n",
    "while(num<5):\n",
    "    print(num)\n",
    "    num+=1"
   ]
  },
  {
   "cell_type": "code",
   "execution_count": 5,
   "id": "927adf9d",
   "metadata": {},
   "outputs": [
    {
     "name": "stdout",
     "output_type": "stream",
     "text": [
      "a\n",
      "b\n",
      "c\n",
      "d\n",
      "e\n"
     ]
    }
   ],
   "source": [
    "list_of_values = [\"a\",\"b\",\"c\",\"d\",\"e\"]\n",
    "list_index = 0\n",
    "while(list_index<len(list_of_values)):\n",
    "    print(list_of_values[list_index])\n",
    "    list_index+=1"
   ]
  },
  {
   "cell_type": "code",
   "execution_count": 6,
   "id": "3322a2ae",
   "metadata": {},
   "outputs": [
    {
     "name": "stdout",
     "output_type": "stream",
     "text": [
      "0 0\n",
      "1 0\n",
      "2 0\n",
      "0 1\n",
      "1 1\n",
      "2 1\n",
      "0 2\n",
      "1 2\n",
      "2 2\n",
      "0 3\n",
      "1 3\n",
      "2 3\n",
      "0 4\n",
      "1 4\n",
      "2 4\n"
     ]
    }
   ],
   "source": [
    "for outer_index in range(5):\n",
    "    for inner_index in range(3):\n",
    "        print(inner_index,outer_index)"
   ]
  },
  {
   "cell_type": "code",
   "execution_count": 15,
   "id": "d9f48ea8",
   "metadata": {},
   "outputs": [
    {
     "name": "stdout",
     "output_type": "stream",
     "text": [
      "0 + + 10\n",
      "1 + + 9\n",
      "2 + + 8\n",
      "3 + + 7\n",
      "4 + + 6\n",
      "5 + + 5\n",
      "6 + + 4\n",
      "7 + + 3\n",
      "8 + + 2\n"
     ]
    }
   ],
   "source": [
    "#enumerate\n",
    "\n",
    "for index,value in enumerate(range(10,1,-1)):\n",
    "    print(f\"{index} + + {value}\")"
   ]
  },
  {
   "cell_type": "code",
   "execution_count": null,
   "id": "bb19b7fa",
   "metadata": {},
   "outputs": [],
   "source": [
    "#fibonocci series\n",
    "\n",
    "first_number = 0\n",
    "next_number = 1\n",
    "\n",
    "num = int(input(\"Enter the number of series\"))\n"
   ]
  },
  {
   "cell_type": "code",
   "execution_count": null,
   "id": "cbc9d864",
   "metadata": {},
   "outputs": [],
   "source": [
    "0 1 1 2 3 5 8 13\n",
    "\n",
    "\n",
    "starting_value  = 0\n"
   ]
  },
  {
   "cell_type": "code",
   "execution_count": 16,
   "id": "0c1ac6e9",
   "metadata": {},
   "outputs": [
    {
     "name": "stdout",
     "output_type": "stream",
     "text": [
      "Your age is 29\n"
     ]
    }
   ],
   "source": [
    "#Functions\n",
    "\n",
    "def calculate_age(year):\n",
    "    print(\"Your age is {}\".format(2023 - year))\n",
    "\n",
    "calculate_age(1994)"
   ]
  },
  {
   "cell_type": "code",
   "execution_count": 21,
   "id": "f7f55311",
   "metadata": {},
   "outputs": [
    {
     "name": "stdout",
     "output_type": "stream",
     "text": [
      "1 2 3 4 5 12 23 132 12 12 12 12 12 12 13 12 3124 123 134 134\n"
     ]
    }
   ],
   "source": [
    " n = [1,2,3,4,5,12,23,132,12,12,12,12,12,12,13,12,3124,123,134,134,]\n",
    "    \n",
    "print(*n)"
   ]
  },
  {
   "cell_type": "code",
   "execution_count": 22,
   "id": "b4858ad2",
   "metadata": {},
   "outputs": [
    {
     "name": "stdout",
     "output_type": "stream",
     "text": [
      "Gokul\n",
      "1\n"
     ]
    }
   ],
   "source": [
    "def age():\n",
    "    return \"Gokul\", 1\n",
    "\n",
    "return_Variable = age()\n",
    "\n",
    "print(return_Variable[0])\n",
    "print(return_Variable[1])"
   ]
  },
  {
   "cell_type": "code",
   "execution_count": 24,
   "id": "6338b194",
   "metadata": {},
   "outputs": [],
   "source": [
    "#yield = \"it is called as a resume reaction\""
   ]
  },
  {
   "cell_type": "code",
   "execution_count": 29,
   "id": "b39c18bf",
   "metadata": {},
   "outputs": [
    {
     "name": "stdout",
     "output_type": "stream",
     "text": [
      "0\n",
      "1\n",
      "2\n",
      "3\n",
      "4\n",
      "5\n",
      "6\n",
      "7\n",
      "8\n",
      "9\n"
     ]
    }
   ],
   "source": [
    "def a():\n",
    "    for i in range(0,10):\n",
    "        yield i\n",
    "        \n",
    "for number in a():\n",
    "    print(number)\n"
   ]
  },
  {
   "cell_type": "code",
   "execution_count": 35,
   "id": "e3dcbc64",
   "metadata": {},
   "outputs": [
    {
     "name": "stdout",
     "output_type": "stream",
     "text": [
      "0\n",
      "1\n",
      "1\n",
      "2\n",
      "3\n",
      "5\n",
      "8\n",
      "13\n",
      "21\n",
      "34\n"
     ]
    }
   ],
   "source": [
    "n = 10\n",
    "a = 0\n",
    "b = 1\n",
    "for counter in range(0,10):\n",
    "    print(a)\n",
    "    a , b = b , a+b"
   ]
  },
  {
   "cell_type": "code",
   "execution_count": null,
   "id": "ed96a888",
   "metadata": {},
   "outputs": [],
   "source": []
  }
 ],
 "metadata": {
  "kernelspec": {
   "display_name": "Python 3 (ipykernel)",
   "language": "python",
   "name": "python3"
  },
  "language_info": {
   "codemirror_mode": {
    "name": "ipython",
    "version": 3
   },
   "file_extension": ".py",
   "mimetype": "text/x-python",
   "name": "python",
   "nbconvert_exporter": "python",
   "pygments_lexer": "ipython3",
   "version": "3.9.13"
  }
 },
 "nbformat": 4,
 "nbformat_minor": 5
}
